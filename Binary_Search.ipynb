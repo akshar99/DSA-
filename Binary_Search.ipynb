{
  "nbformat": 4,
  "nbformat_minor": 0,
  "metadata": {
    "colab": {
      "name": "Binary Search.ipynb",
      "provenance": [],
      "authorship_tag": "ABX9TyMPRSnneZce3JaPlmC7Vnk+",
      "include_colab_link": true
    },
    "kernelspec": {
      "name": "python3",
      "display_name": "Python 3"
    },
    "language_info": {
      "name": "python"
    }
  },
  "cells": [
    {
      "cell_type": "markdown",
      "metadata": {
        "id": "view-in-github",
        "colab_type": "text"
      },
      "source": [
        "<a href=\"https://colab.research.google.com/github/akshar99/DSA-/blob/main/Binary_Search.ipynb\" target=\"_parent\"><img src=\"https://colab.research.google.com/assets/colab-badge.svg\" alt=\"Open In Colab\"/></a>"
      ]
    },
    {
      "cell_type": "markdown",
      "source": [
        "**Binary Search Algorithm:**\n",
        "\n",
        "1.   compare the number with middle element\n",
        "2.   if middle element is equal to number return it\n",
        "3.   if middle element is greater then the number can lie in left half\n",
        "4.   otherwise in the right half\n",
        "\n"
      ],
      "metadata": {
        "id": "HUhyb7-v8J9A"
      }
    },
    {
      "cell_type": "code",
      "execution_count": 37,
      "metadata": {
        "id": "n8dDWxj5-6Ia"
      },
      "outputs": [],
      "source": [
        "def binary_search(list , num):\n",
        "  low = 0\n",
        "  high = len(list) - 1\n",
        "\n",
        "  while low <= high:\n",
        "    middle = (low + high) // 2\n",
        "    if middle == num:\n",
        "      return middle\n",
        "    elif middle > num:\n",
        "      high = middle - 1\n",
        "    elif middle < num:\n",
        "      low = middle + 1\n",
        "\n",
        "    return None"
      ]
    },
    {
      "cell_type": "code",
      "source": [
        "print(binary_search(lst, 6))"
      ],
      "metadata": {
        "colab": {
          "base_uri": "https://localhost:8080/"
        },
        "id": "aivqxoyG-sJN",
        "outputId": "8f52f501-2336-47da-d763-cada29d75a48"
      },
      "execution_count": 41,
      "outputs": [
        {
          "output_type": "stream",
          "name": "stdout",
          "text": [
            "None\n"
          ]
        }
      ]
    },
    {
      "cell_type": "code",
      "source": [
        "lst = [1,2,3,4,5]\n",
        "item = 3\n",
        "\n",
        "result = binary_search(lst, 2)\n",
        "\n",
        "if result != None:\n",
        "    print(\"Element is present at index\", str(result))\n",
        "else:\n",
        "    print(\"Element is not present in array\")"
      ],
      "metadata": {
        "colab": {
          "base_uri": "https://localhost:8080/"
        },
        "id": "8woitEzV2tUT",
        "outputId": "3f8372d2-a095-45e6-c466-92032b8d161b"
      },
      "execution_count": 39,
      "outputs": [
        {
          "output_type": "stream",
          "name": "stdout",
          "text": [
            "Element is present at index 2\n"
          ]
        }
      ]
    },
    {
      "cell_type": "code",
      "source": [
        ""
      ],
      "metadata": {
        "id": "b3l4OkSQ4etZ"
      },
      "execution_count": null,
      "outputs": []
    }
  ]
}